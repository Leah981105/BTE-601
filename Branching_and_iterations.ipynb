{
 "cells": [
  {
   "cell_type": "markdown",
   "id": "01ca064c",
   "metadata": {},
   "source": [
    "**Finger exercise**: Write a program that examines three variables — x, y, and z — and prints the largest odd number among them. If none of them are odd, it should print the smallest value of the three."
   ]
  },
  {
   "cell_type": "code",
   "execution_count": 6,
   "id": "4e8367b6",
   "metadata": {},
   "outputs": [
    {
     "name": "stdout",
     "output_type": "stream",
     "text": [
      "2\n"
     ]
    }
   ],
   "source": [
    "x = 2\n",
    "y = 4\n",
    "z = 6\n",
    "\n",
    "array = [x,y,z]\n",
    "answer = min(x,y,z)\n",
    "for each in array:\n",
    "    if each%2 != 0:\n",
    "        if answer < each:\n",
    "            answer = each\n",
    "print(answer)       "
   ]
  },
  {
   "cell_type": "markdown",
   "id": "29345d5f",
   "metadata": {},
   "source": [
    "**commend line**"
   ]
  },
  {
   "cell_type": "code",
   "execution_count": 8,
   "id": "df1d4e74",
   "metadata": {
    "scrolled": true
   },
   "outputs": [
    {
     "name": "stdout",
     "output_type": "stream",
     "text": [
      "4444444666666666666777666666666\n"
     ]
    }
   ],
   "source": [
    "x = 1111111111111111111111111111111 + 222222222222333222222222 +\\\n",
    "    3333333333333333333333333333333\n",
    "print(x)"
   ]
  },
  {
   "cell_type": "code",
   "execution_count": 10,
   "id": "e5f16335",
   "metadata": {},
   "outputs": [
    {
     "name": "stdout",
     "output_type": "stream",
     "text": [
      "4444444666666666666777666666666\n"
     ]
    }
   ],
   "source": [
    "x = (1111111111111111111111111111111 + 222222222222333222222222 +\n",
    "     3333333333333333333333333333333)\n",
    "print(x)"
   ]
  },
  {
   "cell_type": "markdown",
   "id": "599ba9ee",
   "metadata": {},
   "source": [
    "**Finger exercise**: Replace the comment in the following code with a while loop.\n",
    "num_x = int(input('How many times should I print the letter X? '))"
   ]
  },
  {
   "cell_type": "code",
   "execution_count": 13,
   "id": "f09f6516",
   "metadata": {},
   "outputs": [
    {
     "name": "stdout",
     "output_type": "stream",
     "text": [
      "How many times should I print the letter X? 100\n",
      "XXXXXXXXXXXXXXXXXXXXXXXXXXXXXXXXXXXXXXXXXXXXXXXXXXXXXXXXXXXXXXXXXXXXXXXXXXXXXXXXXXXXXXXXXXXXXXXXXXXX\n"
     ]
    }
   ],
   "source": [
    "num_x = int(input('How many times should I print the letter X? '))  #需要input一次想print的次数，然后print出来指定次数的X\n",
    "times = 0\n",
    "to_print = ''\n",
    "\n",
    "while times < num_x:\n",
    "    to_print += 'X'\n",
    "    times += 1\n",
    " \n",
    "print(to_print)"
   ]
  },
  {
   "cell_type": "markdown",
   "id": "0df6eda4",
   "metadata": {},
   "source": [
    "**Finger exercise**: Write a program that takes as input 10 integers, and then prints the largest odd number that was entered. If no odd number was entered, it should print a message to that effect."
   ]
  },
  {
   "cell_type": "code",
   "execution_count": 20,
   "id": "f88378f5",
   "metadata": {},
   "outputs": [
    {
     "name": "stdout",
     "output_type": "stream",
     "text": [
      "Please input:2\n",
      "Please input:4\n",
      "Please input:6\n",
      "Please input:8\n",
      "Please input:10\n",
      "Please input:12\n",
      "Please input:14\n",
      "Please input:16\n",
      "Please input:18\n",
      "Please input:20\n",
      "There are no odd numbers\n"
     ]
    }
   ],
   "source": [
    "input_time = 0\n",
    "input_array = []\n",
    "largest_odd = 0\n",
    "\n",
    "#input 10 integers\n",
    "while input_time < 10:\n",
    "    input_ = int(input('Please input:'))\n",
    "    input_array.append(input_)\n",
    "    input_time += 1\n",
    "\n",
    "#filter for largest odd number\n",
    "for each in input_array:\n",
    "    if each%2 != 0:\n",
    "        if largest_odd < each:\n",
    "            largest_odd = each\n",
    "\n",
    "if largest_odd == 0:\n",
    "    print('There are no odd numbers')\n",
    "else: \n",
    "    print(largest_odd)\n"
   ]
  },
  {
   "cell_type": "markdown",
   "id": "58c35f5b",
   "metadata": {},
   "source": [
    "**Finger exercise**: Write a program that prints the sum of the prime numbers greater than 2 and\n",
    "less than 1000."
   ]
  },
  {
   "cell_type": "code",
   "execution_count": 55,
   "id": "33ad098b",
   "metadata": {},
   "outputs": [
    {
     "name": "stdout",
     "output_type": "stream",
     "text": [
      "76127\n"
     ]
    }
   ],
   "source": [
    "start = 2\n",
    "end = 1000\n",
    "total = 0\n",
    "\n",
    "for num in range(start, end + 1):\n",
    "    for i in range(2, num):\n",
    "            if num%i == 0:\n",
    "                break\n",
    "    else:  # 当for循环not break的时候，进入到else\n",
    "        total += num\n",
    "\n",
    "print(total)\n",
    "                "
   ]
  },
  {
   "cell_type": "code",
   "execution_count": null,
   "id": "04f06327",
   "metadata": {},
   "outputs": [],
   "source": []
  }
 ],
 "metadata": {
  "kernelspec": {
   "display_name": "Python 3",
   "language": "python",
   "name": "python3"
  },
  "language_info": {
   "codemirror_mode": {
    "name": "ipython",
    "version": 3
   },
   "file_extension": ".py",
   "mimetype": "text/x-python",
   "name": "python",
   "nbconvert_exporter": "python",
   "pygments_lexer": "ipython3",
   "version": "3.8.8"
  }
 },
 "nbformat": 4,
 "nbformat_minor": 5
}
